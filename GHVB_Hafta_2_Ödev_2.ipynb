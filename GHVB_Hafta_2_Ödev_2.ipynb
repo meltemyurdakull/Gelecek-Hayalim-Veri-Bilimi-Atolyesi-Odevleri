{
 "cells": [
  {
   "cell_type": "code",
   "execution_count": 23,
   "id": "83d1dcaa-09ce-4a72-bab8-dd35498a4393",
   "metadata": {},
   "outputs": [
    {
     "name": "stdout",
     "output_type": "stream",
     "text": [
      "3\n",
      "Hi-Kod\n",
      "4.7\n",
      "[9, '3', 8.4, 'Hi-Kod']\n",
      "[8.4, 'Hi-Kod', 'False', 4.7]\n"
     ]
    }
   ],
   "source": [
    "# Part 1\n",
    "\n",
    "liste = [\"Python\",True,9,\"3\",8.4,\"Hi-Kod\",\"False\",4.7]\n",
    "print(liste[3])\n",
    "print(liste[5])\n",
    "print(liste[-1])\n",
    "print(liste[2:6])\n",
    "print(liste[4:])"
   ]
  },
  {
   "cell_type": "code",
   "execution_count": 55,
   "id": "af6e3bee-80b7-4051-90fe-f86b506d1b4d",
   "metadata": {},
   "outputs": [
    {
     "name": "stdout",
     "output_type": "stream",
     "text": [
      "['Python', '3', 'Hi-Kod', 'False']\n"
     ]
    }
   ],
   "source": [
    "# Part 2\n",
    "\n",
    "liste = [\"Python\",True,9,\"3\",8.4,\"Hi-Kod\",\"False\",4.7]\n",
    "liste.remove(1)\n",
    "yeni_liste = [component for component in liste if isinstance(component, str)]\n",
    "print(yeni_liste)"
   ]
  },
  {
   "cell_type": "code",
   "execution_count": 81,
   "id": "025df4d4-35c2-43e7-bb65-9629fa57db68",
   "metadata": {},
   "outputs": [
    {
     "name": "stdout",
     "output_type": "stream",
     "text": [
      "0. indexte bulunan meyve: Elma\n",
      "1. indexte bulunan meyve: Armut\n",
      "2. indexte bulunan meyve: Üzüm\n",
      "3. indexte bulunan meyve: Karpuz\n"
     ]
    }
   ],
   "source": [
    "# Part 3\n",
    "\n",
    "meyveler = [\"Elma\", \"Armut\", \"Üzüm\", \"Karpuz\"]\n",
    "\n",
    "for index, meyve in enumerate(meyveler):\n",
    "    print(\"{}. indexte bulunan meyve: {}\".format(index, meyve))"
   ]
  },
  {
   "cell_type": "code",
   "execution_count": null,
   "id": "165263ff-0e9d-464c-b697-b2518b659e3d",
   "metadata": {},
   "outputs": [],
   "source": []
  }
 ],
 "metadata": {
  "kernelspec": {
   "display_name": "Python 3 (ipykernel)",
   "language": "python",
   "name": "python3"
  },
  "language_info": {
   "codemirror_mode": {
    "name": "ipython",
    "version": 3
   },
   "file_extension": ".py",
   "mimetype": "text/x-python",
   "name": "python",
   "nbconvert_exporter": "python",
   "pygments_lexer": "ipython3",
   "version": "3.12.4"
  }
 },
 "nbformat": 4,
 "nbformat_minor": 5
}
