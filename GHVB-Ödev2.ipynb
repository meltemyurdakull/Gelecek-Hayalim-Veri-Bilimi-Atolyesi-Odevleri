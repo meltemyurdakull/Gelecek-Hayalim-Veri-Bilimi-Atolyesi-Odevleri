{
 "cells": [
  {
   "cell_type": "code",
   "execution_count": 15,
   "id": "e9334f61-059b-4db1-bcfa-9d60ff9024a5",
   "metadata": {},
   "outputs": [
    {
     "name": "stdin",
     "output_type": "stream",
     "text": [
      "Lütfen maaş bilginizi giriniz: 23000\n"
     ]
    },
    {
     "name": "stdout",
     "output_type": "stream",
     "text": [
      "Yeni maaşınız 20700.0\n"
     ]
    }
   ],
   "source": [
    "#ÖDEV 1 - Vergi Hesaplama\n",
    "maaş = int(input(\"Lütfen maaş bilginizi giriniz:\"))\n",
    "if maaş <= 10000:\n",
    "    print(\"Yeni maaşınız\", maaş-0.05*maaş)\n",
    "elif maaş <= 25000:\n",
    "    print(\"Yeni maaşınız\", maaş-0.1*maaş)\n",
    "elif maaş <= 45000:\n",
    "    print(\"Yeni maaşınız\", maaş-0.25*maaş)\n",
    "else:\n",
    "    print(\"Yeni maaşınız\", maaş-0.3*maaş)"
   ]
  },
  {
   "cell_type": "code",
   "execution_count": 1,
   "id": "51f171cd-81a7-4922-947f-2864bfab6a3d",
   "metadata": {},
   "outputs": [
    {
     "name": "stdin",
     "output_type": "stream",
     "text": [
      "Lütfen bir kullanıcı adı belirleyiniz: meltem\n",
      "Lütfen bir şifre belirleyiniz: ct5u8\n"
     ]
    },
    {
     "name": "stdout",
     "output_type": "stream",
     "text": [
      "6 haneli bir şifre oluşturmanız gerekmektedir.\n"
     ]
    }
   ],
   "source": [
    "#ÖDEV 2 - Kullanıcı Adı ve Şifre\n",
    "kullanıcı_adı = input(\"Lütfen bir kullanıcı adı belirleyiniz:\")\n",
    "şifre = input(\"Lütfen bir şifre belirleyiniz:\")\n",
    "if len(şifre) == 6:\n",
    "    print(\"Hesabınız oluşturuldu.\")\n",
    "else:\n",
    "    print(\"6 haneli bir şifre oluşturmanız gerekmektedir.\")"
   ]
  },
  {
   "cell_type": "code",
   "execution_count": 3,
   "id": "cff47240-2cca-476d-9da5-42fd5e2af288",
   "metadata": {},
   "outputs": [
    {
     "name": "stdin",
     "output_type": "stream",
     "text": [
      "Lütfen bir kullanıcı adı belirleyiniz: meltem\n",
      "Lütfen bir şifre belirleyiniz: djs\n",
      "Lütfen bir şifre belirleyiniz: sdfrf\n"
     ]
    },
    {
     "name": "stdout",
     "output_type": "stream",
     "text": [
      "Hesabınız oluşturuldu.\n"
     ]
    }
   ],
   "source": [
    "#ÖDEV 3 - Kullanıcı Adı ve Şifre v.2.0.\n",
    "username = input(\"Lütfen bir kullanıcı adı belirleyiniz:\")\n",
    "while (True):\n",
    "    password = input(\"Lütfen bir şifre belirleyiniz:\")\n",
    "    if len(password) <= 5 and len(password) >= 10:\n",
    "        print(\"Lütfen girdiniz şifre 5 haneden az 10 haneden fazla olmasın!\")\n",
    "        continue\n",
    "    if len(password) >= 5 and len(password) <= 10:\n",
    "        print(\"Hesabınız oluşturuldu.\")\n",
    "        break"
   ]
  },
  {
   "cell_type": "code",
   "execution_count": 1,
   "id": "5fffb21e-642a-451f-8312-d94e796330a5",
   "metadata": {},
   "outputs": [
    {
     "name": "stdin",
     "output_type": "stream",
     "text": [
      "Lütfen bir kullanıcı adı belirleyiniz: meltem\n",
      "Lütfen bir şifre belirleyiniz: 234\n"
     ]
    },
    {
     "name": "stdout",
     "output_type": "stream",
     "text": [
      "Yanlış şifre girildi!\n",
      "3 deneme hakkından 2 deneme hakkınız kaldı!\n"
     ]
    },
    {
     "name": "stdin",
     "output_type": "stream",
     "text": [
      "Lütfen bir şifre belirleyiniz: 23\n"
     ]
    },
    {
     "name": "stdout",
     "output_type": "stream",
     "text": [
      "Yanlış şifre girildi!\n",
      "3 deneme hakkından 1 deneme hakkınız kaldı!\n"
     ]
    },
    {
     "name": "stdin",
     "output_type": "stream",
     "text": [
      "Lütfen bir şifre belirleyiniz: 2\n"
     ]
    },
    {
     "name": "stdout",
     "output_type": "stream",
     "text": [
      "Yanlış şifre girildi!\n",
      "3 deneme hakkından 0 deneme hakkınız kaldı!\n",
      "Maalesef, deneme hakkınız bulunmamaktadır.\n"
     ]
    }
   ],
   "source": [
    "# ÖDEV 4 - Şifre için 3 Hak Tanıma\n",
    "kullanıcı = input(\"Lütfen bir kullanıcı adı belirleyiniz:\")\n",
    "sifre = 0\n",
    "deneme = 3\n",
    "while sifre != 123456 and deneme > 0:\n",
    "    sifre = int(input(\"Lütfen bir şifre belirleyiniz:\"))\n",
    "    if (sifre == 123456):\n",
    "        print(\"Giriş yapıldı.\")\n",
    "    else:\n",
    "        print(\"Yanlış şifre girildi!\")\n",
    "    deneme -= 1\n",
    "    print(\"3 deneme hakkından\", deneme, \"deneme hakkınız kaldı!\")\n",
    "if(deneme == 0):\n",
    "    print(\"Maalesef, deneme hakkınız bulunmamaktadır.\")"
   ]
  },
  {
   "cell_type": "code",
   "execution_count": null,
   "id": "b9919fe2-c485-453d-a3f5-b95ce3b39fc5",
   "metadata": {},
   "outputs": [],
   "source": []
  }
 ],
 "metadata": {
  "kernelspec": {
   "display_name": "Python 3 (ipykernel)",
   "language": "python",
   "name": "python3"
  },
  "language_info": {
   "codemirror_mode": {
    "name": "ipython",
    "version": 3
   },
   "file_extension": ".py",
   "mimetype": "text/x-python",
   "name": "python",
   "nbconvert_exporter": "python",
   "pygments_lexer": "ipython3",
   "version": "3.12.4"
  }
 },
 "nbformat": 4,
 "nbformat_minor": 5
}
