{
 "cells": [
  {
   "cell_type": "code",
   "execution_count": 15,
   "id": "ff546c5b-f8bd-4794-88ed-4d828c7ecf43",
   "metadata": {},
   "outputs": [
    {
     "name": "stdin",
     "output_type": "stream",
     "text": [
      "Lütfen bir yarı çap değeri giriniz: 5\n",
      "Lütfen pi değeri giriniz: 3.14\n"
     ]
    },
    {
     "name": "stdout",
     "output_type": "stream",
     "text": [
      "78.5\n"
     ]
    }
   ],
   "source": [
    "# Dairenin Alanını Hesaplama\n",
    "\n",
    "def alan(pi, yarıçap):\n",
    "    alan = pi*(yarıçap**2)\n",
    "    return alan\n",
    "\n",
    "r = float(input(\"Lütfen bir yarı çap değeri giriniz:\"))\n",
    "p = float(input(\"Lütfen pi değeri giriniz:\"))\n",
    "print(alan(p, r))"
   ]
  },
  {
   "cell_type": "code",
   "execution_count": 55,
   "id": "7e82635b-196d-4093-8c7a-97f3d98a8b3f",
   "metadata": {},
   "outputs": [
    {
     "name": "stdin",
     "output_type": "stream",
     "text": [
      "Lütfen bir sayı giriniz: 1\n"
     ]
    },
    {
     "name": "stdout",
     "output_type": "stream",
     "text": [
      "1! = 1\n"
     ]
    }
   ],
   "source": [
    "# Faktöriyel Hesaplama\n",
    "\n",
    "def faktöriyel(n):  \n",
    "    fact = 1\n",
    "    if sayı >= 0:\n",
    "        for i in range(1, sayı + 1):\n",
    "            fact *= i\n",
    "        return fact\n",
    "    else:\n",
    "        return None\n",
    "\n",
    "sayı = int(input(\"Lütfen bir sayı giriniz:\"))\n",
    "fact = faktöriyel(sayı)\n",
    "\n",
    "if fact:\n",
    "    print(f\"{sayı}! = {fact}\")\n",
    "else:\n",
    "    print(\"Faktöriyel hesaplanamadı.\")"
   ]
  },
  {
   "cell_type": "code",
   "execution_count": 63,
   "id": "be043570-51f4-4114-9f9f-71fc2489a5f1",
   "metadata": {},
   "outputs": [
    {
     "name": "stdin",
     "output_type": "stream",
     "text": [
      "Lütfen doğduğunuz yılı giriniz: 2000\n"
     ]
    },
    {
     "name": "stdout",
     "output_type": "stream",
     "text": [
      "24\n"
     ]
    }
   ],
   "source": [
    "# Yaş Hesaplama\n",
    "\n",
    "def yaş(doğum_yılı):\n",
    "    yaş = şuanki_yıl - doğum_yılı\n",
    "    return yaş\n",
    "\n",
    "şuanki_yıl = 2024\n",
    "doğum_yılı = int(input(\"Lütfen doğduğunuz yılı giriniz:\"))\n",
    "print(yaş(doğum_yılı))"
   ]
  },
  {
   "cell_type": "code",
   "execution_count": 9,
   "id": "9b069523-b410-43d1-b254-174eea15f264",
   "metadata": {},
   "outputs": [
    {
     "name": "stdin",
     "output_type": "stream",
     "text": [
      "Lütfen isminizi giriniz: Meltem\n",
      "Lütfen doğduğunuz yılı giriniz: 2000\n"
     ]
    },
    {
     "name": "stdout",
     "output_type": "stream",
     "text": [
      "Emekliliğinize 41 yıl kaldı\n"
     ]
    }
   ],
   "source": [
    "# Kişinin Emeklilik Durumunu Öğrenme\n",
    "\n",
    "def emeklilik_zamanı(isim, doğum_yılı):\n",
    "    def yaş():\n",
    "        şuanki_yıl = 2024\n",
    "        yaş = şuanki_yıl - doğum_yılı\n",
    "        return yaş\n",
    "    yas = yaş()\n",
    "    if yas >= 65:\n",
    "        print(\"Emekli oldunuz.\")\n",
    "    else:\n",
    "        kalan_yıl = 65 - yas\n",
    "        print(f\"Emekliliğinize {kalan_yıl} yıl kaldı\")\n",
    "\n",
    "isim = input(\"Lütfen isminizi giriniz:\")\n",
    "doğum_yılı = int(input(\"Lütfen doğduğunuz yılı giriniz:\"))\n",
    "emeklilik_zamanı(isim, doğum_yılı)"
   ]
  },
  {
   "cell_type": "code",
   "execution_count": null,
   "id": "4814dda1-c890-47cb-a1f9-209d8b7b0cc1",
   "metadata": {},
   "outputs": [],
   "source": []
  }
 ],
 "metadata": {
  "kernelspec": {
   "display_name": "Python 3 (ipykernel)",
   "language": "python",
   "name": "python3"
  },
  "language_info": {
   "codemirror_mode": {
    "name": "ipython",
    "version": 3
   },
   "file_extension": ".py",
   "mimetype": "text/x-python",
   "name": "python",
   "nbconvert_exporter": "python",
   "pygments_lexer": "ipython3",
   "version": "3.12.4"
  }
 },
 "nbformat": 4,
 "nbformat_minor": 5
}
