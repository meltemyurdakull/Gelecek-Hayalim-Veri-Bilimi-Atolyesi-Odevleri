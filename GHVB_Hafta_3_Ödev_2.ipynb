{
 "cells": [
  {
   "cell_type": "code",
   "execution_count": 1,
   "id": "080abe5d-0d0f-4bd0-beef-bb575f45c627",
   "metadata": {},
   "outputs": [],
   "source": [
    "import numpy as np"
   ]
  },
  {
   "cell_type": "code",
   "execution_count": 113,
   "id": "5e714689-3f96-48da-9293-b45ab07752b4",
   "metadata": {},
   "outputs": [
    {
     "name": "stdout",
     "output_type": "stream",
     "text": [
      "int32\n",
      "(10,)\n",
      "1\n",
      "10\n"
     ]
    }
   ],
   "source": [
    "# Bir boyutlu array oluşturma ve inceleme\n",
    "\n",
    "liste_1 = np.array([0, 1, 2, 3, 4, 5, 6, 7, 8, 9])\n",
    "print(liste_1.dtype)\n",
    "print(liste_1.shape)\n",
    "print(liste_1.ndim)\n",
    "print(liste_1.size)"
   ]
  },
  {
   "cell_type": "code",
   "execution_count": 115,
   "id": "edd96601-966d-4e42-bbca-6a89b71dc99b",
   "metadata": {},
   "outputs": [
    {
     "name": "stdout",
     "output_type": "stream",
     "text": [
      "int32\n",
      "(2, 3)\n",
      "2\n",
      "6\n",
      "İlk satırdaki datalar: [0 1 2]\n",
      "Son satır ortadaki data: 4\n",
      "[[3 4 5]]\n",
      "int32\n",
      "(3, 2, 3)\n",
      "3\n",
      "18\n",
      "İlk satırdaki datalar: [[1 2 3]\n",
      " [4 5 6]]\n",
      "Veri 10u çağırma: 10\n",
      "[[[13 14 15]\n",
      "  [16 17 18]]]\n"
     ]
    }
   ],
   "source": [
    "# 2 ve 3 boyutlu array oluşturma ve inceleme\n",
    "\n",
    "liste_2 = np.array([[0, 1, 2], [3, 4, 5]]) # 2 boyutlu array incelemesi\n",
    "print(liste_2.dtype)\n",
    "print(liste_2.shape)\n",
    "print(liste_2.ndim)\n",
    "print(liste_2.size)\n",
    "print('İlk satırdaki datalar:', liste_2[0, :])\n",
    "print('Son satır ortadaki data:', liste_2[1,1])\n",
    "print(liste_2[1:])\n",
    "\n",
    "liste_3 = np.array([[[1, 2, 3], [4, 5, 6]], \n",
    "                   [[7, 8, 9],[10, 11, 12]],\n",
    "                  [[13, 14, 15], [16, 17, 18]]]) # 3 boyutlu array incelemesi\n",
    "print(liste_3.dtype)\n",
    "print(liste_3.shape)\n",
    "print(liste_3.ndim)\n",
    "print(liste_3.size)\n",
    "print('İlk satırdaki datalar:', liste_3[0,:,:])\n",
    "print(\"Veri 10u çağırma:\", liste_3[1, 1, 0])\n",
    "print(liste_3[2::])"
   ]
  },
  {
   "cell_type": "code",
   "execution_count": 145,
   "id": "4bc312ec-ad35-428b-98e7-6d5ee48850ff",
   "metadata": {},
   "outputs": [
    {
     "name": "stdout",
     "output_type": "stream",
     "text": [
      "Sıfır dizesi:\n",
      " [[0. 0. 0.]\n",
      " [0. 0. 0.]]\n",
      "Birler dizesi:\n",
      " [[1. 1. 1.]\n",
      " [1. 1. 1.]]\n",
      "Satır birleştirilmiş yeni dize:\n",
      " [[0. 0. 0. 1. 1. 1.]\n",
      " [0. 0. 0. 1. 1. 1.]]\n",
      "Sütun birleştirilmiş yeni dize:\n",
      " [[0. 0. 0.]\n",
      " [0. 0. 0.]\n",
      " [1. 1. 1.]\n",
      " [1. 1. 1.]]\n"
     ]
    }
   ],
   "source": [
    "# Sıfırlardan ve birlerden oluşan array'ler ve birleştirilmesi\n",
    "\n",
    "sıfır = np.zeros((2, 3))\n",
    "print('Sıfır dizesi:\\n', sıfır)\n",
    "\n",
    "bir = np.ones((2, 3))\n",
    "print('Birler dizesi:\\n', bir)\n",
    "\n",
    "yatay_birlestirme = np.hstack((sıfır, bir))\n",
    "print('Satır birleştirilmiş yeni dize:\\n', yatay_birlestirme)\n",
    "\n",
    "dikey_birlestirme = np.vstack((sıfır, bir))\n",
    "print('Sütun birleştirilmiş yeni dize:\\n', dikey_birlestirme)"
   ]
  },
  {
   "cell_type": "code",
   "execution_count": null,
   "id": "8ff3528d-d901-459a-94c8-995dea34b978",
   "metadata": {},
   "outputs": [],
   "source": []
  }
 ],
 "metadata": {
  "kernelspec": {
   "display_name": "Python 3 (ipykernel)",
   "language": "python",
   "name": "python3"
  },
  "language_info": {
   "codemirror_mode": {
    "name": "ipython",
    "version": 3
   },
   "file_extension": ".py",
   "mimetype": "text/x-python",
   "name": "python",
   "nbconvert_exporter": "python",
   "pygments_lexer": "ipython3",
   "version": "3.12.4"
  }
 },
 "nbformat": 4,
 "nbformat_minor": 5
}
