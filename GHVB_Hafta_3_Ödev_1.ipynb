{
 "cells": [
  {
   "cell_type": "code",
   "execution_count": 35,
   "id": "214347ca-6ef2-4459-bf09-6ae641bb79a1",
   "metadata": {},
   "outputs": [
    {
     "name": "stdin",
     "output_type": "stream",
     "text": [
      "Lütfen isminizi giriniz: Deniz\n",
      "Lütfen sonucunu öğrenmek istediğiniz dersi belirtiniz: Kimya\n"
     ]
    },
    {
     "name": "stdout",
     "output_type": "stream",
     "text": [
      "Deniz Kimya dersinden 56 aldınız\n"
     ]
    }
   ],
   "source": [
    "# Öğrenci ve Ders Notları için Sözlük Oluşturma\n",
    "\n",
    "notlar = {\n",
    "    'Ali': {'Matematik': '50', 'Fizik': '90', 'Kimya': '45'}, \n",
    "    'Deniz': {'Matematik': '98', 'Fizik': '70', 'Kimya': '56'}, \n",
    "    'Meral': {'Matematik': '32', 'Fizik': '64', 'Kimya': '18'}\n",
    "}\n",
    "\n",
    "isim = input(\"Lütfen isminizi giriniz:\")\n",
    "ders = input(\"Lütfen sonucunu öğrenmek istediğiniz dersi belirtiniz:\")\n",
    "notunuz = notlar[isim][ders]\n",
    "print(f\"{isim}, {ders} dersinden {notunuz} aldınız\")"
   ]
  },
  {
   "cell_type": "code",
   "execution_count": 61,
   "id": "422de856-20e4-4d81-a6d5-f6220fdf8133",
   "metadata": {},
   "outputs": [
    {
     "name": "stdout",
     "output_type": "stream",
     "text": [
      "{'Ali': {'Matematik': '68', 'Fizik': '90', 'Kimya': '45'}, 'Deniz': {'Matematik': '98', 'Fizik': '12', 'Kimya': '56'}, 'Meral': {'Matematik': '1', 'Fizik': '64', 'Kimya': '18'}, 'Gökçe': {'Matematik': '0', 'Fizik': '23', 'Kimya': '70'}}\n",
      "{'Ali': {'Matematik': '68', 'Fizik': '90', 'Kimya': '45'}, 'Deniz': {'Matematik': '98', 'Fizik': '12', 'Kimya': '56'}, 'Meral': {'Matematik': '1', 'Fizik': '64', 'Kimya': '18'}, 'Gökçe': {'Matematik': '0', 'Fizik': '23', 'Kimya': '70'}}\n"
     ]
    },
    {
     "name": "stdin",
     "output_type": "stream",
     "text": [
      "Lütfen öğrenmek istediğiniz bilgiyi yazınız: Meral\n",
      "Lütfen öğrenmek istediğiniz bilgiyi yazınız: Matematik\n"
     ]
    },
    {
     "name": "stdout",
     "output_type": "stream",
     "text": [
      "1\n",
      "{'Deniz': {'Matematik': '98', 'Fizik': '12', 'Kimya': '56'}, 'Meral': {'Matematik': '1', 'Fizik': '64', 'Kimya': '18'}, 'Gökçe': {'Matematik': '0', 'Fizik': '23', 'Kimya': '70'}}\n"
     ]
    }
   ],
   "source": [
    "# Sözlükte uygulamalar\n",
    "\n",
    "# Değer değiştirme:\n",
    "notlar.update({\n",
    "    'Ali': {'Matematik': '68', 'Fizik': '90', 'Kimya': '45'}, \n",
    "    'Deniz': {'Matematik': '98', 'Fizik': '12', 'Kimya': '56'}, \n",
    "    'Meral': {'Matematik': '1', 'Fizik': '64', 'Kimya': '18'}\n",
    "})\n",
    "\n",
    "print(notlar)\n",
    "\n",
    "# Değer ekleme:\n",
    "notlar.update({'Gökçe': {'Matematik': '0', 'Fizik': '23', 'Kimya': '70'}})\n",
    "print(notlar)\n",
    "\n",
    "# Kullanıcıya istediği bilgiyi sorma:\n",
    "veri1 = input(\"Lütfen öğrenmek istediğiniz bilgiyi yazınız:\")\n",
    "veri2 = input(\"Lütfen öğrenmek istediğiniz bilgiyi yazınız:\")\n",
    "print(notlar[veri1][veri2])\n",
    "\n",
    "# Değer silme\n",
    "notlar.pop('Ali')\n",
    "print(notlar)"
   ]
  },
  {
   "cell_type": "code",
   "execution_count": null,
   "id": "c05d9032-0dc6-4e9a-9706-1b6dadf444c0",
   "metadata": {},
   "outputs": [],
   "source": []
  }
 ],
 "metadata": {
  "kernelspec": {
   "display_name": "Python 3 (ipykernel)",
   "language": "python",
   "name": "python3"
  },
  "language_info": {
   "codemirror_mode": {
    "name": "ipython",
    "version": 3
   },
   "file_extension": ".py",
   "mimetype": "text/x-python",
   "name": "python",
   "nbconvert_exporter": "python",
   "pygments_lexer": "ipython3",
   "version": "3.12.4"
  }
 },
 "nbformat": 4,
 "nbformat_minor": 5
}
