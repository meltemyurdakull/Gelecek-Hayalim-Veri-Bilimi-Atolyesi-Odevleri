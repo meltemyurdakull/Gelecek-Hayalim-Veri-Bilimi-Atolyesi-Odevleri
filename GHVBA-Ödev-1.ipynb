{
 "cells": [
  {
   "cell_type": "code",
   "execution_count": 1,
   "id": "d384bdfe-9472-48a1-a3a4-4a54e13f02d3",
   "metadata": {},
   "outputs": [
    {
     "data": {
      "text/plain": [
       "int"
      ]
     },
     "execution_count": 1,
     "metadata": {},
     "output_type": "execute_result"
    }
   ],
   "source": [
    "# ÖDEV 1 - Veri Tipi Dönüştürme\n",
    "a = 12\n",
    "type(a)"
   ]
  },
  {
   "cell_type": "code",
   "execution_count": 3,
   "id": "3e5bf1ad-85ac-48a0-8bd2-3936d88cf678",
   "metadata": {
    "scrolled": true
   },
   "outputs": [
    {
     "data": {
      "text/plain": [
       "'12'"
      ]
     },
     "execution_count": 3,
     "metadata": {},
     "output_type": "execute_result"
    }
   ],
   "source": [
    "str(a)"
   ]
  },
  {
   "cell_type": "code",
   "execution_count": 5,
   "id": "1dce74a0-44e9-462d-81f0-eb26d567d3ea",
   "metadata": {},
   "outputs": [
    {
     "data": {
      "text/plain": [
       "12"
      ]
     },
     "execution_count": 5,
     "metadata": {},
     "output_type": "execute_result"
    }
   ],
   "source": [
    "int(a)"
   ]
  },
  {
   "cell_type": "code",
   "execution_count": 7,
   "id": "f6ec073d-ae8c-4747-aa79-2da9405d1a2b",
   "metadata": {},
   "outputs": [
    {
     "data": {
      "text/plain": [
       "12.0"
      ]
     },
     "execution_count": 7,
     "metadata": {},
     "output_type": "execute_result"
    }
   ],
   "source": [
    "float(a)"
   ]
  },
  {
   "cell_type": "code",
   "execution_count": 9,
   "id": "93b17750-98fe-456f-bb48-7eff800eedc3",
   "metadata": {},
   "outputs": [
    {
     "data": {
      "text/plain": [
       "True"
      ]
     },
     "execution_count": 9,
     "metadata": {},
     "output_type": "execute_result"
    }
   ],
   "source": [
    "bool(a)"
   ]
  },
  {
   "cell_type": "code",
   "execution_count": 11,
   "id": "7b3cb151-2639-4c44-8c02-1af654ebd066",
   "metadata": {},
   "outputs": [],
   "source": [
    "#ÖDEV 2 - Yaş Karşılaştırma\n",
    "ali = 15\n",
    "fatma = 20\n",
    "ayşe = 82"
   ]
  },
  {
   "cell_type": "code",
   "execution_count": 13,
   "id": "e49b2ae5-0c63-46e5-bb2a-1c17dd47a7b9",
   "metadata": {},
   "outputs": [
    {
     "name": "stdout",
     "output_type": "stream",
     "text": [
      "False\n",
      "False\n",
      "False\n",
      "False\n",
      "False\n"
     ]
    }
   ],
   "source": [
    "print(ali == fatma)\n",
    "print(ali == ayşe)\n",
    "print(fatma == ayşe)\n",
    "print(ali==fatma or ali==ayşe)\n",
    "print(ali==fatma and fatma==ayşe)"
   ]
  },
  {
   "cell_type": "code",
   "execution_count": 19,
   "id": "e70af4f6-0006-4040-9f46-f000bca7f5b0",
   "metadata": {},
   "outputs": [
    {
     "name": "stdout",
     "output_type": "stream",
     "text": [
      "True\n",
      "True\n",
      "True\n"
     ]
    }
   ],
   "source": [
    "print(ali != fatma)\n",
    "print(ali != ayşe)\n",
    "print(ayşe != fatma)"
   ]
  },
  {
   "cell_type": "code",
   "execution_count": 90,
   "id": "be8f5b2a-bafd-41ec-ae1e-d32d2620b708",
   "metadata": {},
   "outputs": [
    {
     "name": "stdout",
     "output_type": "stream",
     "text": [
      "False\n",
      "False\n",
      "True\n",
      "True\n",
      "False\n"
     ]
    }
   ],
   "source": [
    "print(ali > fatma) \n",
    "print(ali > ayşe) \n",
    "print(ayşe > fatma) \n",
    "print(ali>fatma or ayşe>fatma)\n",
    "print(ali>ayşe and ayşe>fatma)"
   ]
  },
  {
   "cell_type": "code",
   "execution_count": 15,
   "id": "1b939192-4057-4bb3-b5a4-251f7a4d9a47",
   "metadata": {},
   "outputs": [
    {
     "name": "stdout",
     "output_type": "stream",
     "text": [
      "False\n",
      "False\n",
      "True\n",
      "True\n",
      "False\n"
     ]
    }
   ],
   "source": [
    "print(ali >= fatma)  \n",
    "print(ali >= ayşe)\n",
    "print(ayşe >= fatma) \n",
    "print(ali>=fatma or ayşe>=fatma)\n",
    "print(ali>=ayşe and ayşe>=fatma)"
   ]
  },
  {
   "cell_type": "code",
   "execution_count": 94,
   "id": "281e25a9-29fa-482b-a7d7-4c6d77b52dbf",
   "metadata": {},
   "outputs": [
    {
     "name": "stdout",
     "output_type": "stream",
     "text": [
      "True\n",
      "True\n",
      "False\n",
      "True\n",
      "False\n"
     ]
    }
   ],
   "source": [
    "print(ali < fatma) \n",
    "print(ali < ayşe)\n",
    "print(ayşe < fatma)\n",
    "print(ali<fatma or ayşe<fatma)\n",
    "print(ali<ayşe and ayşe<fatma)"
   ]
  },
  {
   "cell_type": "code",
   "execution_count": 96,
   "id": "b854ec43-d77b-46de-b940-7d0a6a4ab277",
   "metadata": {},
   "outputs": [
    {
     "name": "stdout",
     "output_type": "stream",
     "text": [
      "True\n",
      "True\n",
      "False\n",
      "True\n",
      "False\n"
     ]
    }
   ],
   "source": [
    "print(ali <= fatma)\n",
    "print(ali <= ayşe)\n",
    "print(ayşe <= fatma)\n",
    "print(ali<=fatma or ayşe<=fatma)\n",
    "print(ali<=ayşe and ayşe<=fatma)"
   ]
  },
  {
   "cell_type": "code",
   "execution_count": 17,
   "id": "e9668426-c438-46f5-a832-9d4f72bb6c03",
   "metadata": {},
   "outputs": [
    {
     "name": "stdin",
     "output_type": "stream",
     "text": [
      "Lütfen bir değer giriniz: 23\n",
      "Lütfen bir değer daha giriniz: 32\n"
     ]
    },
    {
     "name": "stdout",
     "output_type": "stream",
     "text": [
      "55\n",
      "-9\n",
      "736\n",
      "0.71875\n"
     ]
    }
   ],
   "source": [
    "#ÖDEV 3 - Matematiksel Operatörler\n",
    "x = int(input(\"Lütfen bir değer giriniz:\"))\n",
    "y = int(input(\"Lütfen bir değer daha giriniz:\"))\n",
    "print(x+y)\n",
    "print(x-y)\n",
    "print(x*y)\n",
    "print(x/y)"
   ]
  },
  {
   "cell_type": "code",
   "execution_count": 21,
   "id": "d31e262a-a3dd-4ca0-9dbf-d6387c891cbe",
   "metadata": {},
   "outputs": [
    {
     "name": "stdin",
     "output_type": "stream",
     "text": [
      "Lütfen isminizi giriniz: Meltem\n"
     ]
    },
    {
     "name": "stdout",
     "output_type": "stream",
     "text": [
      "Meltem\n"
     ]
    },
    {
     "name": "stdin",
     "output_type": "stream",
     "text": [
      "Lütfen yaşınızı giriniz: 24\n"
     ]
    },
    {
     "name": "stdout",
     "output_type": "stream",
     "text": [
      "24\n"
     ]
    },
    {
     "name": "stdin",
     "output_type": "stream",
     "text": [
      "Lütfen yaşadığınız şehri giriniz: İzmir\n"
     ]
    },
    {
     "name": "stdout",
     "output_type": "stream",
     "text": [
      "İzmir\n"
     ]
    },
    {
     "name": "stdin",
     "output_type": "stream",
     "text": [
      "Lütfen mesleğinizi giriniz: Mühendis\n"
     ]
    },
    {
     "name": "stdout",
     "output_type": "stream",
     "text": [
      "Mühendis\n"
     ]
    }
   ],
   "source": [
    "#ÖDEV 4 - Kullanıcıdan Bilgi İsteme\n",
    "print(input(\"Lütfen isminizi giriniz:\"))\n",
    "print(input(\"Lütfen yaşınızı giriniz:\"))\n",
    "print(input(\"Lütfen yaşadığınız şehri giriniz:\"))\n",
    "print(input(\"Lütfen mesleğinizi giriniz:\"))"
   ]
  },
  {
   "cell_type": "code",
   "execution_count": null,
   "id": "8a1aa24c-9762-4897-98f7-26c57274edbb",
   "metadata": {},
   "outputs": [],
   "source": [
    "#ÖDEV 5 - Çift ve Tek Sayı Seçme\n",
    "k = \"Gelecek Hayalim:W-Code Veri Bilimi Atölyesi\"\n",
    "print(k.split(\" \"))\n",
    "print(k.upper())\n",
    "print(k.lower())"
   ]
  },
  {
   "cell_type": "code",
   "execution_count": 84,
   "id": "656b3cc8-953e-44c8-be44-ad348ca5edc8",
   "metadata": {},
   "outputs": [
    {
     "name": "stdout",
     "output_type": "stream",
     "text": [
      "02468\n",
      "13579\n"
     ]
    }
   ],
   "source": [
    "m = \"0123456789\"\n",
    "print(m[::2])\n",
    "print(m[1::2])"
   ]
  }
 ],
 "metadata": {
  "kernelspec": {
   "display_name": "Python 3 (ipykernel)",
   "language": "python",
   "name": "python3"
  },
  "language_info": {
   "codemirror_mode": {
    "name": "ipython",
    "version": 3
   },
   "file_extension": ".py",
   "mimetype": "text/x-python",
   "name": "python",
   "nbconvert_exporter": "python",
   "pygments_lexer": "ipython3",
   "version": "3.12.4"
  }
 },
 "nbformat": 4,
 "nbformat_minor": 5
}
