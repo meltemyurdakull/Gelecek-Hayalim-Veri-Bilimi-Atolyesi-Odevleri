{
 "cells": [
  {
   "cell_type": "code",
   "execution_count": 5,
   "id": "d06000de-8d65-4e2c-b7aa-5fe6c593e835",
   "metadata": {},
   "outputs": [],
   "source": [
    "import pandas as pd"
   ]
  },
  {
   "cell_type": "code",
   "execution_count": 9,
   "id": "69b02193-279e-42a6-9017-8b1add647a69",
   "metadata": {},
   "outputs": [],
   "source": [
    "sozluk = {\"Kategori\": [\"Giyim\",\"Giyim\", \"Ayakkabı\",\"Aksesuar\",\"Ayakkabı\",\"Giyim\",\"Aksesuar\",\"Aksesuar\",\"Ayakkabı\",\"Giyim\"],\n",
    "\n",
    "\n",
    "  \"Ürün\" : [\"Kazak\",\"T-shirt\",\"Sandalet\",\"Küpe\",\"Spor Ayakkabı\",\"Pantolon\",\"Kolye\",\"Yüzük\",\"Çizme\",\"Ceket\"],\n",
    "\n",
    "\n",
    "\"Fiyat\" : [300,180,450,50,700,400,150,80,850,900]}\n",
    "\n"
   ]
  },
  {
   "cell_type": "code",
   "execution_count": 11,
   "id": "37851e14-4021-45e9-9dd5-718093c3bce3",
   "metadata": {},
   "outputs": [
    {
     "data": {
      "text/html": [
       "<div>\n",
       "<style scoped>\n",
       "    .dataframe tbody tr th:only-of-type {\n",
       "        vertical-align: middle;\n",
       "    }\n",
       "\n",
       "    .dataframe tbody tr th {\n",
       "        vertical-align: top;\n",
       "    }\n",
       "\n",
       "    .dataframe thead th {\n",
       "        text-align: right;\n",
       "    }\n",
       "</style>\n",
       "<table border=\"1\" class=\"dataframe\">\n",
       "  <thead>\n",
       "    <tr style=\"text-align: right;\">\n",
       "      <th></th>\n",
       "      <th>Kategori</th>\n",
       "      <th>Ürün</th>\n",
       "      <th>Fiyat</th>\n",
       "    </tr>\n",
       "  </thead>\n",
       "  <tbody>\n",
       "    <tr>\n",
       "      <th>0</th>\n",
       "      <td>Giyim</td>\n",
       "      <td>Kazak</td>\n",
       "      <td>300</td>\n",
       "    </tr>\n",
       "    <tr>\n",
       "      <th>1</th>\n",
       "      <td>Giyim</td>\n",
       "      <td>T-shirt</td>\n",
       "      <td>180</td>\n",
       "    </tr>\n",
       "    <tr>\n",
       "      <th>2</th>\n",
       "      <td>Ayakkabı</td>\n",
       "      <td>Sandalet</td>\n",
       "      <td>450</td>\n",
       "    </tr>\n",
       "    <tr>\n",
       "      <th>3</th>\n",
       "      <td>Aksesuar</td>\n",
       "      <td>Küpe</td>\n",
       "      <td>50</td>\n",
       "    </tr>\n",
       "    <tr>\n",
       "      <th>4</th>\n",
       "      <td>Ayakkabı</td>\n",
       "      <td>Spor Ayakkabı</td>\n",
       "      <td>700</td>\n",
       "    </tr>\n",
       "    <tr>\n",
       "      <th>5</th>\n",
       "      <td>Giyim</td>\n",
       "      <td>Pantolon</td>\n",
       "      <td>400</td>\n",
       "    </tr>\n",
       "    <tr>\n",
       "      <th>6</th>\n",
       "      <td>Aksesuar</td>\n",
       "      <td>Kolye</td>\n",
       "      <td>150</td>\n",
       "    </tr>\n",
       "    <tr>\n",
       "      <th>7</th>\n",
       "      <td>Aksesuar</td>\n",
       "      <td>Yüzük</td>\n",
       "      <td>80</td>\n",
       "    </tr>\n",
       "    <tr>\n",
       "      <th>8</th>\n",
       "      <td>Ayakkabı</td>\n",
       "      <td>Çizme</td>\n",
       "      <td>850</td>\n",
       "    </tr>\n",
       "    <tr>\n",
       "      <th>9</th>\n",
       "      <td>Giyim</td>\n",
       "      <td>Ceket</td>\n",
       "      <td>900</td>\n",
       "    </tr>\n",
       "  </tbody>\n",
       "</table>\n",
       "</div>"
      ],
      "text/plain": [
       "   Kategori           Ürün  Fiyat\n",
       "0     Giyim          Kazak    300\n",
       "1     Giyim        T-shirt    180\n",
       "2  Ayakkabı       Sandalet    450\n",
       "3  Aksesuar           Küpe     50\n",
       "4  Ayakkabı  Spor Ayakkabı    700\n",
       "5     Giyim       Pantolon    400\n",
       "6  Aksesuar          Kolye    150\n",
       "7  Aksesuar          Yüzük     80\n",
       "8  Ayakkabı          Çizme    850\n",
       "9     Giyim          Ceket    900"
      ]
     },
     "execution_count": 11,
     "metadata": {},
     "output_type": "execute_result"
    }
   ],
   "source": [
    "df = pd.DataFrame(sozluk)\n",
    "df"
   ]
  },
  {
   "cell_type": "code",
   "execution_count": 79,
   "id": "7cc9d18f-6334-480e-8061-ecfdc544417b",
   "metadata": {},
   "outputs": [
    {
     "name": "stdout",
     "output_type": "stream",
     "text": [
      "Fiyat\n",
      "Sandalet\n",
      "[['Ayakkabı' 'Spor Ayakkabı' 700]\n",
      " ['Giyim' 'Pantolon' 400]\n",
      " ['Aksesuar' 'Kolye' 150]\n",
      " ['Aksesuar' 'Yüzük' 80]\n",
      " ['Ayakkabı' 'Çizme' 850]]\n",
      "1          T-shirt\n",
      "2         Sandalet\n",
      "3             Küpe\n",
      "4    Spor Ayakkabı\n",
      "5         Pantolon\n",
      "Name: Ürün, dtype: object\n"
     ]
    }
   ],
   "source": [
    "print(df.columns[2]) # 2. indeksteki kategori bilgisini bulma\n",
    "print(df.Ürün[2]) # 2. indekste bulunan ürün bilgisine ulaşma\n",
    "print(df.values[4:9]) # 4. indeksten 9.indekse kadarki verileri bulma\n",
    "print(df.Ürün[1:6]) # 1. indeksten 6. indekse kadarki ürün bilgilerini bulma"
   ]
  },
  {
   "cell_type": "code",
   "execution_count": 105,
   "id": "90654cea-4eba-485e-8529-9bea19af1a1f",
   "metadata": {},
   "outputs": [
    {
     "data": {
      "text/plain": [
       "0       Kazak\n",
       "1     T-shirt\n",
       "5    Pantolon\n",
       "9       Ceket\n",
       "Name: Ürün, dtype: object"
      ]
     },
     "execution_count": 105,
     "metadata": {},
     "output_type": "execute_result"
    }
   ],
   "source": [
    "df[df[\"Kategori\"] == \"Giyim\"][\"Ürün\"] # Giyim kategorisindeki ürünleri bulma"
   ]
  },
  {
   "cell_type": "code",
   "execution_count": 107,
   "id": "1bb13271-da1a-41a7-8a9d-1d1ca710650c",
   "metadata": {},
   "outputs": [
    {
     "data": {
      "text/plain": [
       "2         Sandalet\n",
       "4    Spor Ayakkabı\n",
       "8            Çizme\n",
       "Name: Ürün, dtype: object"
      ]
     },
     "execution_count": 107,
     "metadata": {},
     "output_type": "execute_result"
    }
   ],
   "source": [
    "df[df[\"Kategori\"] == \"Ayakkabı\"][\"Ürün\"] # Ayakkabı kategorisindeki ürünleri bulma"
   ]
  },
  {
   "cell_type": "code",
   "execution_count": 109,
   "id": "9ee0694f-87f9-471f-901f-8456ec2e1c24",
   "metadata": {},
   "outputs": [
    {
     "data": {
      "text/plain": [
       "3     Küpe\n",
       "6    Kolye\n",
       "7    Yüzük\n",
       "Name: Ürün, dtype: object"
      ]
     },
     "execution_count": 109,
     "metadata": {},
     "output_type": "execute_result"
    }
   ],
   "source": [
    "df[df[\"Kategori\"] == \"Aksesuar\"][\"Ürün\"] # Aksesuar kategorisindeki ürünleri bulma"
   ]
  },
  {
   "cell_type": "code",
   "execution_count": 135,
   "id": "58c69c6a-3cb7-42e9-8748-c9a78f26714b",
   "metadata": {},
   "outputs": [
    {
     "name": "stdout",
     "output_type": "stream",
     "text": [
      "['Ceket', 'Pantolon', 'Kazak']\n"
     ]
    }
   ],
   "source": [
    "urun_fiyat = df[df[\"Fiyat\"] >= 300][\"Ürün\"] # Ürün kategorisinde fiyatı 300'den büyük olan veriler bulunur\n",
    "giyim_urun = df[df[\"Kategori\"] == \"Giyim\"][\"Ürün\"] # Giyim kategorisindeki ürünler bulunur\n",
    "giyim_fiyat = list(set(urun_fiyat) & set(giyim_urun)) # urun_fiyat ve giyim_urun listelerinin kesişimi bulunarak fiyatı 300'den büyük giyim kategorisindeki ürünler bulunur\n",
    "print(giyim_fiyat)"
   ]
  },
  {
   "cell_type": "code",
   "execution_count": 137,
   "id": "5c10bad3-fca4-4086-93b4-2bacc2d8fa1c",
   "metadata": {},
   "outputs": [
    {
     "name": "stdout",
     "output_type": "stream",
     "text": [
      "['Sandalet']\n"
     ]
    }
   ],
   "source": [
    "urun_fiyat = df[df[\"Fiyat\"] <= 600][\"Ürün\"] # Ürün kategorisinde fiyatı 600'den az olan veriler bulunur\n",
    "ayakkabı_urun = df[df[\"Kategori\"] == \"Ayakkabı\"][\"Ürün\"] # Ayakkabı kategorisindeki ürünler bulunur\n",
    "ayakkabı_fiyat = list(set(urun_fiyat) & set(ayakkabı_urun)) # urun_fiyat ve ayakkabı_urun listelerinin kesişimi bulunarak fiyatı 600'den az olan ayakkabı kategorisindeki ürünler bulunur\n",
    "print(ayakkabı_fiyat)"
   ]
  },
  {
   "cell_type": "code",
   "execution_count": 139,
   "id": "38c232a3-0ee9-40d3-b0df-40b4ec0cb98c",
   "metadata": {},
   "outputs": [
    {
     "name": "stdout",
     "output_type": "stream",
     "text": [
      "['Kolye']\n"
     ]
    }
   ],
   "source": [
    "urun_fiyat = df[df[\"Fiyat\"] >= 100][\"Ürün\"] # Ürün kategorisinde fiyatı 100'den büyük olan veriler bulunur\n",
    "aksesuar_urun = df[df[\"Kategori\"] == \"Aksesuar\"][\"Ürün\"] # Aksesuar kategorisindeki ürünler bulunur\n",
    "aksesuar_fiyat = list(set(urun_fiyat) & set(aksesuar_urun)) # urun_fiyat ve aksesuar_urun listelerinin kesişimi bulunarak fiyatı 100'den büyük aksesuar kategorisindeki ürünler bulunur\n",
    "print(aksesuar_fiyat)"
   ]
  },
  {
   "cell_type": "code",
   "execution_count": null,
   "id": "b856f4c4-1835-4f5d-8927-72b5650ff965",
   "metadata": {},
   "outputs": [],
   "source": []
  }
 ],
 "metadata": {
  "kernelspec": {
   "display_name": "Python 3 (ipykernel)",
   "language": "python",
   "name": "python3"
  },
  "language_info": {
   "codemirror_mode": {
    "name": "ipython",
    "version": 3
   },
   "file_extension": ".py",
   "mimetype": "text/x-python",
   "name": "python",
   "nbconvert_exporter": "python",
   "pygments_lexer": "ipython3",
   "version": "3.12.4"
  }
 },
 "nbformat": 4,
 "nbformat_minor": 5
}
